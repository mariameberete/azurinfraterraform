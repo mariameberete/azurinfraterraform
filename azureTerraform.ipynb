{
 "cells": [
  {
   "cell_type": "code",
   "execution_count": 25,
   "id": "e52c5bc5-3e46-4270-a140-f6c82ce5da2b",
   "metadata": {},
   "outputs": [
    {
     "name": "stdout",
     "output_type": "stream",
     "text": [
      "\u001b[0m\u001b[1mInitializing the backend...\u001b[0m\n",
      "\u001b[0m\u001b[1mInitializing modules...\u001b[0m\n",
      "\u001b[0m\u001b[1mInitializing provider plugins...\u001b[0m\n",
      "- Reusing previous version of hashicorp/azurerm from the dependency lock file\n",
      "- Using previously-installed hashicorp/azurerm v4.29.0\n",
      "\n",
      "\u001b[0m\u001b[1m\u001b[32mTerraform has been successfully initialized!\u001b[0m\u001b[32m\u001b[0m\n",
      "\u001b[0m\u001b[32m\n",
      "You may now begin working with Terraform. Try running \"terraform plan\" to see\n",
      "any changes that are required for your infrastructure. All Terraform commands\n",
      "should now work.\n",
      "\n",
      "If you ever set or change modules or backend configuration for Terraform,\n",
      "rerun this command to reinitialize your working directory. If you forget, other\n",
      "commands will detect it and remind you to do so if necessary.\u001b[0m\n"
     ]
    }
   ],
   "source": [
    "terraform init"
   ]
  },
  {
   "cell_type": "code",
   "execution_count": 26,
   "id": "cb6b3259-11ff-4ca6-a9cc-56aa6b767cbd",
   "metadata": {},
   "outputs": [
    {
     "name": "stdout",
     "output_type": "stream",
     "text": [
      "\u001b[0m\u001b[1mmodule.projectGithub.azurerm_resource_group.rg-terraformMariame: Refreshing state... [id=/subscriptions/537bb5af-974a-40ed-9493-5761b69e345a/resourceGroups/rg-terraformMariame]\u001b[0m\n",
      "\u001b[0m\u001b[1mmodule.projectGithub.azurerm_network_security_group.acceptanceTestSecurityGroup1_mariame: Refreshing state... [id=/subscriptions/537bb5af-974a-40ed-9493-5761b69e345a/resourceGroups/rg-terraformMariame/providers/Microsoft.Network/networkSecurityGroups/acceptanceTestSecurityGroup1_mariame]\u001b[0m\n",
      "\u001b[0m\u001b[1mmodule.projectGithub.azurerm_virtual_network.mariame_virtual: Refreshing state... [id=/subscriptions/537bb5af-974a-40ed-9493-5761b69e345a/resourceGroups/rg-terraformMariame/providers/Microsoft.Network/virtualNetworks/mariame_virtual-vnet]\u001b[0m\n",
      "\u001b[0m\u001b[1mmodule.projectGithub.azurerm_subnet.mariame_subnet: Refreshing state... [id=/subscriptions/537bb5af-974a-40ed-9493-5761b69e345a/resourceGroups/rg-terraformMariame/providers/Microsoft.Network/virtualNetworks/mariame_virtual-vnet/subnets/mariame_subnet-subnet]\u001b[0m\n",
      "\u001b[0m\u001b[1mmodule.projectGithub.azurerm_network_security_rule.acceptanceTestSecurityGroup1_rule_mariame[\"443\"]: Refreshing state... [id=/subscriptions/537bb5af-974a-40ed-9493-5761b69e345a/resourceGroups/rg-terraformMariame/providers/Microsoft.Network/networkSecurityGroups/acceptanceTestSecurityGroup1_mariame/securityRules/port-443]\u001b[0m\n",
      "\u001b[0m\u001b[1mmodule.projectGithub.azurerm_network_security_rule.acceptanceTestSecurityGroup1_rule_mariame[\"80\"]: Refreshing state... [id=/subscriptions/537bb5af-974a-40ed-9493-5761b69e345a/resourceGroups/rg-terraformMariame/providers/Microsoft.Network/networkSecurityGroups/acceptanceTestSecurityGroup1_mariame/securityRules/port-80]\u001b[0m\n",
      "\n",
      "Terraform used the selected providers to generate the following execution plan.\n",
      "Resource actions are indicated with the following symbols:\n",
      "  \u001b[32m+\u001b[0m create\u001b[0m\n",
      "\n",
      "Terraform will perform the following actions:\n",
      "\n",
      "\u001b[1m  # module.projectGithub.azurerm_subnet_network_security_group_association.security_group_association_mariame\u001b[0m will be created\n",
      "\u001b[0m  \u001b[32m+\u001b[0m\u001b[0m resource \"azurerm_subnet_network_security_group_association\" \"security_group_association_mariame\" {\n",
      "      \u001b[32m+\u001b[0m\u001b[0m id                        = (known after apply)\n",
      "      \u001b[32m+\u001b[0m\u001b[0m network_security_group_id = \"/subscriptions/537bb5af-974a-40ed-9493-5761b69e345a/resourceGroups/rg-terraformMariame/providers/Microsoft.Network/networkSecurityGroups/acceptanceTestSecurityGroup1_mariame\"\n",
      "      \u001b[32m+\u001b[0m\u001b[0m subnet_id                 = \"/subscriptions/537bb5af-974a-40ed-9493-5761b69e345a/resourceGroups/rg-terraformMariame/providers/Microsoft.Network/virtualNetworks/mariame_virtual-vnet/subnets/mariame_subnet-subnet\"\n",
      "    }\n",
      "\n",
      "\u001b[1mPlan:\u001b[0m 1 to add, 0 to change, 0 to destroy.\n",
      "\u001b[0m\u001b[90m\n",
      "───────────────────────────────────────────────────────────────────────────────\u001b[0m\n",
      "\n",
      "Saved the plan to: plan.out\n",
      "\n",
      "To perform exactly these actions, run the following command to apply:\n",
      "    terraform apply \"plan.out\"\n"
     ]
    }
   ],
   "source": [
    "terraform plan -out=plan.out"
   ]
  },
  {
   "cell_type": "code",
   "execution_count": 27,
   "id": "bd69d5b9-00f2-4e37-9845-b78b3ff26abb",
   "metadata": {},
   "outputs": [
    {
     "name": "stdout",
     "output_type": "stream",
     "text": [
      "\u001b[0m\u001b[1mmodule.projectGithub.azurerm_subnet_network_security_group_association.security_group_association_mariame: Creating...\u001b[0m\u001b[0m\n",
      "\u001b[0m\u001b[1mmodule.projectGithub.azurerm_subnet_network_security_group_association.security_group_association_mariame: Creation complete after 5s [id=/subscriptions/537bb5af-974a-40ed-9493-5761b69e345a/resourceGroups/rg-terraformMariame/providers/Microsoft.Network/virtualNetworks/mariame_virtual-vnet/subnets/mariame_subnet-subnet]\u001b[0m\n",
      "\u001b[0m\u001b[1m\u001b[32m\n",
      "Apply complete! Resources: 1 added, 0 changed, 0 destroyed.\n",
      "\u001b[0m\n"
     ]
    }
   ],
   "source": [
    "terraform apply \"plan.out\""
   ]
  },
  {
   "cell_type": "code",
   "execution_count": 14,
   "id": "59d1c68d-fdd7-443d-890f-0d4540f811c2",
   "metadata": {},
   "outputs": [
    {
     "name": "stdout",
     "output_type": "stream",
     "text": [
      "\u001b[0m\u001b[1mdata.azurerm_resource_group.rg-terraformMariame: Reading...\u001b[0m\u001b[0m\n",
      "\u001b[0m\u001b[1mdata.azurerm_resource_group.rg-terraformMariame: Read complete after 0s [id=/subscriptions/537bb5af-974a-40ed-9493-5761b69e345a/resourceGroups/rg-terraformMariame]\u001b[0m\n",
      "\u001b[0m\u001b[1mazurerm_virtual_network.mariame_virtual: Refreshing state... [id=/subscriptions/537bb5af-974a-40ed-9493-5761b69e345a/resourceGroups/rg-terraformMariame/providers/Microsoft.Network/virtualNetworks/mariame_virtual-vnet]\u001b[0m\n",
      "\u001b[0m\u001b[1mazurerm_subnet.mariame_subnet: Refreshing state... [id=/subscriptions/537bb5af-974a-40ed-9493-5761b69e345a/resourceGroups/rg-terraformMariame/providers/Microsoft.Network/virtualNetworks/mariame_virtual-vnet/subnets/mariame_subnet-subnet]\u001b[0m\n",
      "\n",
      "Terraform used the selected providers to generate the following execution plan.\n",
      "Resource actions are indicated with the following symbols:\n",
      "  \u001b[31m-\u001b[0m destroy\u001b[0m\n",
      "\n",
      "Terraform will perform the following actions:\n",
      "\n",
      "\u001b[1m  # azurerm_subnet.mariame_subnet\u001b[0m will be \u001b[1m\u001b[31mdestroyed\u001b[0m\n",
      "\u001b[0m  \u001b[31m-\u001b[0m\u001b[0m resource \"azurerm_subnet\" \"mariame_subnet\" {\n",
      "      \u001b[31m-\u001b[0m\u001b[0m address_prefixes                              = [\n",
      "          \u001b[31m-\u001b[0m\u001b[0m \"10.0.1.0/24\",\n",
      "        ] \u001b[90m-> null\u001b[0m\u001b[0m\n",
      "      \u001b[31m-\u001b[0m\u001b[0m default_outbound_access_enabled               = true \u001b[90m-> null\u001b[0m\u001b[0m\n",
      "      \u001b[31m-\u001b[0m\u001b[0m id                                            = \"/subscriptions/537bb5af-974a-40ed-9493-5761b69e345a/resourceGroups/rg-terraformMariame/providers/Microsoft.Network/virtualNetworks/mariame_virtual-vnet/subnets/mariame_subnet-subnet\" \u001b[90m-> null\u001b[0m\u001b[0m\n",
      "      \u001b[31m-\u001b[0m\u001b[0m name                                          = \"mariame_subnet-subnet\" \u001b[90m-> null\u001b[0m\u001b[0m\n",
      "      \u001b[31m-\u001b[0m\u001b[0m private_endpoint_network_policies             = \"Disabled\" \u001b[90m-> null\u001b[0m\u001b[0m\n",
      "      \u001b[31m-\u001b[0m\u001b[0m private_link_service_network_policies_enabled = true \u001b[90m-> null\u001b[0m\u001b[0m\n",
      "      \u001b[31m-\u001b[0m\u001b[0m resource_group_name                           = \"rg-terraformMariame\" \u001b[90m-> null\u001b[0m\u001b[0m\n",
      "      \u001b[31m-\u001b[0m\u001b[0m service_endpoint_policy_ids                   = [] \u001b[90m-> null\u001b[0m\u001b[0m\n",
      "      \u001b[31m-\u001b[0m\u001b[0m service_endpoints                             = [] \u001b[90m-> null\u001b[0m\u001b[0m\n",
      "      \u001b[31m-\u001b[0m\u001b[0m virtual_network_name                          = \"mariame_virtual-vnet\" \u001b[90m-> null\u001b[0m\u001b[0m\n",
      "    }\n",
      "\n",
      "\u001b[1m  # azurerm_virtual_network.mariame_virtual\u001b[0m will be \u001b[1m\u001b[31mdestroyed\u001b[0m\n",
      "\u001b[0m  \u001b[31m-\u001b[0m\u001b[0m resource \"azurerm_virtual_network\" \"mariame_virtual\" {\n",
      "      \u001b[31m-\u001b[0m\u001b[0m address_space                  = [\n",
      "          \u001b[31m-\u001b[0m\u001b[0m \"10.0.0.0/16\",\n",
      "        ] \u001b[90m-> null\u001b[0m\u001b[0m\n",
      "      \u001b[31m-\u001b[0m\u001b[0m dns_servers                    = [] \u001b[90m-> null\u001b[0m\u001b[0m\n",
      "      \u001b[31m-\u001b[0m\u001b[0m flow_timeout_in_minutes        = 0 \u001b[90m-> null\u001b[0m\u001b[0m\n",
      "      \u001b[31m-\u001b[0m\u001b[0m guid                           = \"2767c94f-7c99-4f40-8635-9bce0090f752\" \u001b[90m-> null\u001b[0m\u001b[0m\n",
      "      \u001b[31m-\u001b[0m\u001b[0m id                             = \"/subscriptions/537bb5af-974a-40ed-9493-5761b69e345a/resourceGroups/rg-terraformMariame/providers/Microsoft.Network/virtualNetworks/mariame_virtual-vnet\" \u001b[90m-> null\u001b[0m\u001b[0m\n",
      "      \u001b[31m-\u001b[0m\u001b[0m location                       = \"francecentral\" \u001b[90m-> null\u001b[0m\u001b[0m\n",
      "      \u001b[31m-\u001b[0m\u001b[0m name                           = \"mariame_virtual-vnet\" \u001b[90m-> null\u001b[0m\u001b[0m\n",
      "      \u001b[31m-\u001b[0m\u001b[0m private_endpoint_vnet_policies = \"Disabled\" \u001b[90m-> null\u001b[0m\u001b[0m\n",
      "      \u001b[31m-\u001b[0m\u001b[0m resource_group_name            = \"rg-terraformMariame\" \u001b[90m-> null\u001b[0m\u001b[0m\n",
      "      \u001b[31m-\u001b[0m\u001b[0m subnet                         = [\n",
      "          \u001b[31m-\u001b[0m\u001b[0m {\n",
      "              \u001b[31m-\u001b[0m\u001b[0m address_prefixes                              = [\n",
      "                  \u001b[31m-\u001b[0m\u001b[0m \"10.0.1.0/24\",\n",
      "                ]\n",
      "              \u001b[31m-\u001b[0m\u001b[0m default_outbound_access_enabled               = true\n",
      "              \u001b[31m-\u001b[0m\u001b[0m delegation                                    = []\n",
      "              \u001b[31m-\u001b[0m\u001b[0m id                                            = \"/subscriptions/537bb5af-974a-40ed-9493-5761b69e345a/resourceGroups/rg-terraformMariame/providers/Microsoft.Network/virtualNetworks/mariame_virtual-vnet/subnets/mariame_subnet-subnet\"\n",
      "              \u001b[31m-\u001b[0m\u001b[0m name                                          = \"mariame_subnet-subnet\"\n",
      "              \u001b[31m-\u001b[0m\u001b[0m private_endpoint_network_policies             = \"Disabled\"\n",
      "              \u001b[31m-\u001b[0m\u001b[0m private_link_service_network_policies_enabled = true\n",
      "              \u001b[31m-\u001b[0m\u001b[0m service_endpoint_policy_ids                   = []\n",
      "              \u001b[31m-\u001b[0m\u001b[0m service_endpoints                             = []\n",
      "                \u001b[90m# (2 unchanged attributes hidden)\u001b[0m\u001b[0m\n",
      "            },\n",
      "        ] \u001b[90m-> null\u001b[0m\u001b[0m\n",
      "      \u001b[31m-\u001b[0m\u001b[0m tags                           = {\n",
      "          \u001b[31m-\u001b[0m\u001b[0m \"backup\" = \"daily\"\n",
      "          \u001b[31m-\u001b[0m\u001b[0m \"env\"    = \"test\"\n",
      "        } \u001b[90m-> null\u001b[0m\u001b[0m\n",
      "        \u001b[90m# (2 unchanged attributes hidden)\u001b[0m\u001b[0m\n",
      "    }\n",
      "\n",
      "\u001b[1mPlan:\u001b[0m 0 to add, 0 to change, 2 to destroy.\n",
      "\u001b[0m\u001b[0m\u001b[1mazurerm_subnet.mariame_subnet: Destroying... [id=/subscriptions/537bb5af-974a-40ed-9493-5761b69e345a/resourceGroups/rg-terraformMariame/providers/Microsoft.Network/virtualNetworks/mariame_virtual-vnet/subnets/mariame_subnet-subnet]\u001b[0m\u001b[0m\n",
      "\u001b[0m\u001b[1mazurerm_subnet.mariame_subnet: Still destroying... [id=/subscriptions/537bb5af-974a-40ed-9493-...ual-vnet/subnets/mariame_subnet-subnet, 00m10s elapsed]\u001b[0m\u001b[0m\n",
      "\u001b[0m\u001b[1mazurerm_subnet.mariame_subnet: Destruction complete after 11s\u001b[0m\n",
      "\u001b[0m\u001b[1mazurerm_virtual_network.mariame_virtual: Destroying... [id=/subscriptions/537bb5af-974a-40ed-9493-5761b69e345a/resourceGroups/rg-terraformMariame/providers/Microsoft.Network/virtualNetworks/mariame_virtual-vnet]\u001b[0m\u001b[0m\n",
      "\u001b[0m\u001b[1mazurerm_virtual_network.mariame_virtual: Still destroying... [id=/subscriptions/537bb5af-974a-40ed-9493-...k/virtualNetworks/mariame_virtual-vnet, 00m10s elapsed]\u001b[0m\u001b[0m\n",
      "\u001b[0m\u001b[1mazurerm_virtual_network.mariame_virtual: Destruction complete after 11s\u001b[0m\n",
      "\u001b[0m\u001b[1m\u001b[32m\n",
      "Destroy complete! Resources: 2 destroyed.\n",
      "\u001b[0m\n"
     ]
    }
   ],
   "source": [
    "terraform destroy -auto-approve"
   ]
  },
  {
   "cell_type": "code",
   "execution_count": null,
   "id": "df078b96-8968-4ccb-9459-1bc0482ccf81",
   "metadata": {},
   "outputs": [],
   "source": []
  }
 ],
 "metadata": {
  "kernelspec": {
   "display_name": "Bash",
   "language": "bash",
   "name": "bash"
  },
  "language_info": {
   "codemirror_mode": "shell",
   "file_extension": ".sh",
   "mimetype": "text/x-sh",
   "name": "bash"
  }
 },
 "nbformat": 4,
 "nbformat_minor": 5
}
